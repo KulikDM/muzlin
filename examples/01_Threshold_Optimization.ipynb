{
 "cells": [
  {
   "cell_type": "markdown",
   "id": "49955324-442b-434d-8b2b-51499d87ab12",
   "metadata": {},
   "source": [
    "<div align=\"center\">\n",
    "\n",
    "# Filter Thresholding\n",
    "\n",
    "</div>\n",
    "<br>\n",
    "\n",
    "An anomaly detector in Muzlin can be constructed simply. However, ther are many functional components that can be intergrated to get a better filter. One such component is the correct contamination level (e.g. when to draw the line between inliers and outliers)\n",
    "\n",
    "Why is this useful?\n",
    "\n",
    "By selecting the correct threshold, the constructed filter can more accurately determine the inliers from outliers and increase the filter's performance.\n",
    "\n",
    "# Let's get started!\n",
    "\n",
    "To begin, first it is recommended to install the necessary libraries to work with the notebooks\n",
    "\n"
   ]
  },
  {
   "cell_type": "code",
   "execution_count": null,
   "id": "24a381da-8029-4a53-8c82-9f6bbd981282",
   "metadata": {},
   "outputs": [],
   "source": [
    "!pip install -q muzlin[notebook]"
   ]
  },
  {
   "cell_type": "markdown",
   "id": "8d974334-af2d-495d-9413-38cb6d0b7faa",
   "metadata": {},
   "source": [
    "Now that we have everything installed, let's import the precomputed encoded textual vectors."
   ]
  },
  {
   "cell_type": "code",
   "execution_count": 1,
   "id": "b984668b",
   "metadata": {},
   "outputs": [],
   "source": [
    "import numpy as np\n",
    "vectors = np.load('vectors.npy')"
   ]
  },
  {
   "cell_type": "markdown",
   "id": "9be91a00-0c1b-4364-a9ce-cbf251abff55",
   "metadata": {},
   "source": [
    "<br>\n",
    "Now we can build our filter, but lets look at all the available thresholding methods."
   ]
  },
  {
   "cell_type": "code",
   "execution_count": null,
   "id": "b5c2f418-3571-4832-bbe5-5afaabc7c6d5",
   "metadata": {},
   "outputs": [],
   "source": [
    "from muzlin.anomaly import OutlierDetector\n",
    "from pyod.models.pca import PCA\n",
    "\n",
    "# contamination = IQR() # Use the inter-quartile thresholding method from PyThresh\n",
    "# contamination = 0.15 # Statically set the threshold at the 85th percentile of the outlier likelihood scores\n",
    "# contamination = 120 # 120 percetile of the fitted decision scores this works for even outside the fitted range\n",
    "\n",
    "# The first two methods above can be passed directly into the outlier detection method e.g\n",
    "contamination = 0.15\n",
    "\n",
    "# Initialize anomaly detection model \n",
    "od = PCA(contamination=contamination)\n",
    "\n",
    "# Or you can pass them in to the class OutlierDetector contamination arg\n",
    "# e.g clf = OutlierDetector(mlflow=False, detector=od, contamination=contamination)\n",
    "\n",
    "# Note that the percentile contamination is the best approach for smalldatasets (<1000) or datasets that cover a broad field of topics\n",
    "\n",
    "# Set mlflow to true to log the experiment\n",
    "#mlflow.set_experiment('outlier_model')\n",
    "clf = OutlierDetector(mlflow=False, detector=od)\n",
    "clf.fit(vectors)\n",
    "#mlflow.end_run()"
   ]
  },
  {
   "cell_type": "markdown",
   "id": "f9a749b8-f2c0-4bd3-b451-870a3b92bd27",
   "metadata": {},
   "source": [
    "<br>\n",
    "While all the options above are nice, how can I fine tune and make sure I have the best threshold?\n",
    "<br>\n",
    "<br>\n",
    "Great question!\n",
    "<br>\n",
    "actually there are a few ways this can be done, lets start with a visual look at the likelihood scores"
   ]
  },
  {
   "cell_type": "code",
   "execution_count": 3,
   "id": "6f9d6236-484d-494a-9c74-037d6967e16a",
   "metadata": {},
   "outputs": [
    {
     "data": {
      "image/png": "[encoded data removed]",
      "text/plain": [
       "<Figure size 640x480 with 1 Axes>"
      ]
     },
     "metadata": {},
     "output_type": "display_data"
    }
   ],
   "source": [
    "import matplotlib.pyplot as plt\n",
    "\n",
    "scores = clf.decision_scores_\n",
    "\n",
    "# Lets get the 85th percentile which was our inital contamination guess\n",
    "perc = np.percentile(scores, 100 - contamination*100)\n",
    "\n",
    "# Bin the data and we can see that our initial first guess was good (albeit too lenient)\n",
    "# Here the red line is the threshold and we can see that first Gaussian distrubution represents\n",
    "# the inlier data and the right tail is the outliers\n",
    "plt.hist(scores, bins=50)\n",
    "plt.vlines(perc, 0, 68, colors='r')\n",
    "plt.show()"
   ]
  },
  {
   "cell_type": "markdown",
   "id": "f44828db-cca8-4256-82a6-002ecfaa78d7",
   "metadata": {},
   "source": [
    "<br>\n",
    "Another way to visualize this is to decompose the vectors and inspect the 3D plot of inliers and outliers"
   ]
  },
  {
   "cell_type": "code",
   "execution_count": null,
   "id": "9c08d25a-8038-4a24-b7c1-b13cd737aebe",
   "metadata": {},
   "outputs": [],
   "source": [
    "import plotly.graph_objects as go\n",
    "from sklearn.manifold import TSNE\n",
    "\n",
    "\n",
    "# Create a decomposition model and transform the data\n",
    "decomp = TSNE(n_components=3, perplexity=5, random_state=42, init='pca', learning_rate='auto', metric='cosine')\n",
    "#decomp = PCA_decomp(n_components=3)\n",
    "vis_dims = decomp.fit_transform(vectors)\n",
    "\n",
    "x = vis_dims[:, 0]\n",
    "y = vis_dims[:, 1]\n",
    "z = vis_dims[:, 2]\n",
    "\n",
    "labels = clf.labels_\n",
    "\n",
    "scatter_inliers = go.Scatter3d(x=x[labels==0], y=y[labels==0], z=z[labels==0], \n",
    "                               mode='markers', marker=dict(size=1, color='blue'), \n",
    "                               name='Inliers')\n",
    "scatter_outliers = go.Scatter3d(x=x[labels==1], y=y[labels==1], z=z[labels==1], \n",
    "                                mode='markers', marker=dict(size=1, color='red'), \n",
    "                                name='Outliers')\n",
    "\n",
    "# Create the figure with both scatter plots\n",
    "fig = go.Figure(data=[scatter_inliers, scatter_outliers])\n",
    "\n",
    "\n",
    "# Set the title\n",
    "fig.update_layout(title_text='Inlier/Outlier Visualization',\n",
    "                 width=600, height=600)\n",
    "\n",
    "# Show the plot\n",
    "fig.show()"
   ]
  },
  {
   "cell_type": "markdown",
   "id": "63a0f34d-4b0d-44e7-9664-68cd755fa736",
   "metadata": {},
   "source": [
    "\n",
    "## A better way?\n",
    "<br>\n",
    "While the methods above are helpfull, there are even better ways to fine-tune the threshold for your filter.\n",
    "<br>\n",
    "However, to do this we will need labled text to achieve this. Below is a semi-supervised approach."
   ]
  },
  {
   "cell_type": "code",
   "execution_count": 5,
   "id": "80dab305-18ac-477c-a449-be0ad73471a3",
   "metadata": {},
   "outputs": [
    {
     "name": "stdout",
     "output_type": "stream",
     "text": [
      "The balanced policy threshold percentage is 83.31%\n",
      "The soft policy threshold percentage is 79.11%\n",
      "The hard policy threshold percentage is 85.41%\n"
     ]
    }
   ],
   "source": [
    "from muzlin.encoders import HuggingFaceEncoder\n",
    "from muzlin.anomaly import optimize_threshold\n",
    "\n",
    "encoder = HuggingFaceEncoder()\n",
    "\n",
    "# Note that this even works well for a few-shot setup as demonstrated below\n",
    "labeled_text = ['Who is the current president of the USA?', 'What treatment raises endoplasmic reticulum stress?',\n",
    "                'What dosage affects the kidneys?', 'Does taking too much folic acid affect kidney disease?']\n",
    "real_labels = [1, 0, 1, 0,]\n",
    "\n",
    "ref_vectors = encoder(labeled_text)\n",
    "ref_vectors = np.array(ref_vectors)\n",
    "\n",
    "fitted_scores = clf.decision_scores_\n",
    "pred_scores = clf.decision_function(ref_vectors)\n",
    "\n",
    "\n",
    "thresh_score1, thresh_perc1 = optimize_threshold(fitted_scores, pred_scores, real_labels, policy='balanced')\n",
    "thresh_score2, thresh_perc3 = optimize_threshold(fitted_scores, pred_scores, real_labels, policy='soft')\n",
    "thresh_score3, thresh_perc2 = optimize_threshold(fitted_scores, pred_scores, real_labels, policy='hard')\n",
    "\n",
    "print(f'The balanced policy threshold percentage is {round(thresh_perc1, 2)}%')\n",
    "print(f'The soft policy threshold percentage is {round(thresh_perc2, 2)}%')\n",
    "print(f'The hard policy threshold percentage is {round(thresh_perc3, 2)}%')\n"
   ]
  },
  {
   "cell_type": "markdown",
   "id": "15030512-cbe8-454d-a7c7-db57390b48ba",
   "metadata": {},
   "source": [
    "The thresholds above can be used to refit the model by passing the optimized threshold in as the contamination param.\n",
    "\n",
    "<br>\n",
    "\n",
    "But say now that you have many examples of labeled data (e.g. we say that all the fitted data is inliers and some evaluation dataset contains only outliers), well instead of using unsupervised or semi-supervised approaches we can use a fully supervised setup."
   ]
  },
  {
   "cell_type": "code",
   "execution_count": null,
   "id": "3a448ec7-7ba6-4fab-ac7e-e15b4e61a9b9",
   "metadata": {},
   "outputs": [],
   "source": [
    "from datasets import load_dataset\n",
    "from muzlin.anomaly import OutlierDetector\n",
    "from sklearn.linear_model import LogisticRegression\n",
    "\n",
    "# Dummy dataset where all the context is definite outliers with respect to the RAG we have\n",
    "ds = load_dataset('vjain/psych', trust_remote_code=True)\n",
    "\n",
    "psych_text = ds['train']['text']\n",
    "\n",
    "outlier_vectors = encoder(psych_text)\n",
    "outlier_vectors = np.array(outlier_vectors)\n",
    "\n",
    "od = LogisticRegression()\n",
    "\n",
    "all_vectors = np.concatenate([vectors, outlier_vectors])\n",
    "labels = np.zeros(len(all_vectors))\n",
    "labels[len(vectors):] = 1\n",
    "\n",
    "clf_sup = OutlierDetector(mlflow=False, detector=od, model='outlier_detector_sup.pkl')\n",
    "clf_sup.fit(all_vectors, labels)\n"
   ]
  },
  {
   "cell_type": "code",
   "execution_count": 7,
   "id": "6d9ade08-9666-4420-84b7-439582c861c4",
   "metadata": {},
   "outputs": [
    {
     "name": "stdout",
     "output_type": "stream",
     "text": [
      "[1. 0. 0. 0.]\n"
     ]
    }
   ],
   "source": [
    "pred_labels = clf_sup.predict(ref_vectors)\n",
    "print(pred_labels)"
   ]
  },
  {
   "cell_type": "code",
   "execution_count": null,
   "id": "9e22d401-098b-4bfb-b7fe-bf3227f33afa",
   "metadata": {},
   "outputs": [],
   "source": []
  }
 ],
 "metadata": {
  "kernelspec": {
   "display_name": "Python 3 (ipykernel)",
   "language": "python",
   "name": "python3"
  },
  "language_info": {
   "codemirror_mode": {
    "name": "ipython",
    "version": 3
   },
   "file_extension": ".py",
   "mimetype": "text/x-python",
   "name": "python",
   "nbconvert_exporter": "python",
   "pygments_lexer": "ipython3",
   "version": "3.12.4"
  },
  "vscode": {
   "interpreter": {
    "hash": "0a54084e6b208ee8d1ce3989ffc20924477a5f55f5a43e22e699a6741623861e"
   }
  }
 },
 "nbformat": 4,
 "nbformat_minor": 5
}

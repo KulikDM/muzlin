{
 "cells": [
  {
   "cell_type": "markdown",
   "id": "49955324-442b-434d-8b2b-51499d87ab12",
   "metadata": {},
   "source": [
    "<div align=\"center\">\n",
    "\n",
    "# Muzlin Intro\n",
    "\n",
    "</div>\n",
    "<br>\n",
    "\n",
    "Muzlin is a lightweight, and fast library for filtering many aspects of the generative text process train. <br>\n",
    "In it's simplest application, it contains many methods to help better align a textual task by providing flags <br> to help guide an end-user's query more effectively.\n",
    "\n",
    "# Let's get started!\n",
    "\n",
    "To begin, first it is recommended to install the necessary libraries to work with the notebooks\n",
    "\n"
   ]
  },
  {
   "cell_type": "code",
   "execution_count": null,
   "id": "24a381da-8029-4a53-8c82-9f6bbd981282",
   "metadata": {},
   "outputs": [],
   "source": [
    "!pip install -q muzlin[notebook]"
   ]
  },
  {
   "cell_type": "markdown",
   "id": "8d974334-af2d-495d-9413-38cb6d0b7faa",
   "metadata": {},
   "source": [
    "Now that we have everything installed, let's import a dataset to work with."
   ]
  },
  {
   "cell_type": "code",
   "execution_count": 1,
   "id": "b984668b",
   "metadata": {},
   "outputs": [],
   "source": [
    "from datasets import load_dataset\n",
    "\n",
    "ds = load_dataset('bigbio/scifact', trust_remote_code=True)\n",
    "\n",
    "# Or to download locally\n",
    "#import pandas as pd\n",
    "#ds = pd.read_csv('bigbio_scifact.csv')"
   ]
  },
  {
   "cell_type": "markdown",
   "id": "2e1d22b4-0e5e-4233-a25f-678cdba0b6e8",
   "metadata": {},
   "source": [
    "Now grab the text that we want from the dataset."
   ]
  },
  {
   "cell_type": "code",
   "execution_count": 2,
   "id": "84ad491c-87a0-40c4-925e-31578870e5a1",
   "metadata": {},
   "outputs": [
    {
     "name": "stdout",
     "output_type": "stream",
     "text": [
      "53% of perinatal mortality is due to low birth weight.\n"
     ]
    }
   ],
   "source": [
    "import pandas as pd\n",
    "\n",
    "df = pd.DataFrame()\n",
    "df['data'] = ds['train']['claim']\n",
    "df = df[df.data!='']\n",
    "\n",
    "# Quick chcek at the text\n",
    "print(df['data'].iloc[10])"
   ]
  },
  {
   "cell_type": "markdown",
   "id": "9a54c2ef-4072-4df9-9a73-d7479939e08a",
   "metadata": {},
   "source": [
    "<br>\n",
    "In order to work with muzlin, the text needs to be encoded first."
   ]
  },
  {
   "cell_type": "code",
   "execution_count": 3,
   "id": "90f280ef-f782-492d-bbcf-42dc27bc244b",
   "metadata": {},
   "outputs": [
    {
     "name": "stdout",
     "output_type": "stream",
     "text": [
      "(809, 384)\n"
     ]
    }
   ],
   "source": [
    "import numpy as np\n",
    "from muzlin.encoders import HuggingFaceEncoder\n",
    "encoder = HuggingFaceEncoder()\n",
    "\n",
    "vectors = encoder(df['data'].values.tolist())\n",
    "vectors = np.array(vectors)\n",
    "\n",
    "# If you want to save the vectors for later use\n",
    "#np.save('vectors', vectors)\n",
    "\n",
    "print(vectors.shape)"
   ]
  },
  {
   "cell_type": "markdown",
   "id": "9be91a00-0c1b-4364-a9ce-cbf251abff55",
   "metadata": {},
   "source": [
    "<br>\n",
    "With the encoded text, we can now create a simple text anomaly filter."
   ]
  },
  {
   "cell_type": "code",
   "execution_count": null,
   "id": "b5c2f418-3571-4832-bbe5-5afaabc7c6d5",
   "metadata": {},
   "outputs": [],
   "source": [
    "from muzlin.anomaly import OutlierDetector\n",
    "from pyod.models.pca import PCA\n",
    "\n",
    "# Read in vectors that were previously saved\n",
    "#vectors = np.load('vectors.npy')\n",
    "\n",
    "# Initialize anomaly detection model \n",
    "od = PCA(contamination=0.15)\n",
    "\n",
    "# Set mlflow to true to log the experiment\n",
    "#mlflow.set_experiment('outlier_model')\n",
    "clf = OutlierDetector(mlflow=False, detector=od)\n",
    "clf.fit(vectors)\n",
    "#mlflow.end_run()"
   ]
  },
  {
   "cell_type": "markdown",
   "id": "f9a749b8-f2c0-4bd3-b451-870a3b92bd27",
   "metadata": {},
   "source": [
    "<br>\n",
    "The filter above can be used to test if new text belongs to the original text collection or not."
   ]
  },
  {
   "cell_type": "code",
   "execution_count": 5,
   "id": "17e0fc03-499a-4b22-aea7-9069788e5e5e",
   "metadata": {},
   "outputs": [
    {
     "name": "stdout",
     "output_type": "stream",
     "text": [
      "Inlier 0, Outlier 1: 1\n",
      "Outlier likelihood: 6185210100.838657\n"
     ]
    }
   ],
   "source": [
    "from muzlin.anomaly import OutlierDetector\n",
    "from muzlin.encoders import HuggingFaceEncoder\n",
    "\n",
    "# Preload trained model - required\n",
    "clf = OutlierDetector(model='outlier_detector.pkl')\n",
    "\n",
    "# Encode question\n",
    "encoder = HuggingFaceEncoder()\n",
    "\n",
    "question = encoder(['Who is the current president of the USA?']) # This is a clear outlier\n",
    "#question = encoder(['What treatment raises endoplasmic reticulum stress?']) # This is a clear inlier\n",
    "#question = encoder(['What dosage affects the kidneys?']) # This just passes an an outlier due to ambiguity\n",
    "#question = encoder(['Does taking too much folic acid affect kidney disease?']) # This just passes as an inlier (only one true text match) \n",
    "\n",
    "\n",
    "vector = np.array(question).reshape(1,-1) # Must be 2D\n",
    "\n",
    "# Get a binary inlier 0 or outlier 1 output\n",
    "label = clf.predict(vector)\n",
    "score = clf.decision_function(vector)\n",
    "\n",
    "print('Inlier 0, Outlier 1:', label[0])\n",
    "print('Outlier likelihood:', score[0])"
   ]
  },
  {
   "cell_type": "code",
   "execution_count": null,
   "id": "0fdc129f-b517-40bb-9d18-1acdf8c033e7",
   "metadata": {},
   "outputs": [],
   "source": []
  }
 ],
 "metadata": {
  "kernelspec": {
   "display_name": "Python 3 (ipykernel)",
   "language": "python",
   "name": "python3"
  },
  "language_info": {
   "codemirror_mode": {
    "name": "ipython",
    "version": 3
   },
   "file_extension": ".py",
   "mimetype": "text/x-python",
   "name": "python",
   "nbconvert_exporter": "python",
   "pygments_lexer": "ipython3",
   "version": "3.12.4"
  },
  "vscode": {
   "interpreter": {
    "hash": "0a54084e6b208ee8d1ce3989ffc20924477a5f55f5a43e22e699a6741623861e"
   }
  }
 },
 "nbformat": 4,
 "nbformat_minor": 5
}
